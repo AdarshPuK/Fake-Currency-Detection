{
 "cells": [
  {
   "cell_type": "markdown",
   "metadata": {
    "id": "3DR-eO17geWu"
   },
   "source": [
    "# Convolutional Neural Network"
   ]
  },
  {
   "cell_type": "markdown",
   "metadata": {
    "id": "EMefrVPCg-60"
   },
   "source": [
    "### Importing the libraries"
   ]
  },
  {
   "cell_type": "code",
   "execution_count": 23,
   "metadata": {
    "id": "sCV30xyVhFbE"
   },
   "outputs": [],
   "source": [
    "import tensorflow as tf\n",
    "from keras.preprocessing import image"
   ]
  },
  {
   "cell_type": "code",
   "execution_count": 24,
   "metadata": {
    "id": "FIleuCAjoFD8"
   },
   "outputs": [
    {
     "data": {
      "text/plain": [
       "'2.11.0'"
      ]
     },
     "execution_count": 24,
     "metadata": {},
     "output_type": "execute_result"
    }
   ],
   "source": [
    "tf.__version__"
   ]
  },
  {
   "cell_type": "markdown",
   "metadata": {
    "id": "oxQxCBWyoGPE"
   },
   "source": [
    "## Part 1 - Data Preprocessing"
   ]
  },
  {
   "cell_type": "markdown",
   "metadata": {
    "id": "MvE-heJNo3GG"
   },
   "source": [
    "### Preprocessing the Training set"
   ]
  },
  {
   "cell_type": "code",
   "execution_count": 25,
   "metadata": {
    "id": "0koUcJMJpEBD"
   },
   "outputs": [
    {
     "name": "stdout",
     "output_type": "stream",
     "text": [
      "Found 35 images belonging to 2 classes.\n"
     ]
    }
   ],
   "source": [
    "train_datagen = image.ImageDataGenerator(rescale = 1./255,\n",
    "                                   shear_range = 0.2,\n",
    "                                   zoom_range = 0.2,\n",
    "                                   horizontal_flip = True)\n",
    "training_set = train_datagen.flow_from_directory('Dataset\\Training',\n",
    "                                                 target_size = (64, 64),\n",
    "                                                 batch_size = 32,\n",
    "                                                 class_mode = 'binary')"
   ]
  },
  {
   "cell_type": "markdown",
   "metadata": {
    "id": "mrCMmGw9pHys"
   },
   "source": [
    "### Preprocessing the Test set"
   ]
  },
  {
   "cell_type": "code",
   "execution_count": 26,
   "metadata": {
    "id": "SH4WzfOhpKc3"
   },
   "outputs": [
    {
     "name": "stdout",
     "output_type": "stream",
     "text": [
      "Found 7 images belonging to 2 classes.\n"
     ]
    }
   ],
   "source": [
    "test_datagen = image.ImageDataGenerator(rescale = 1./255)\n",
    "test_set = test_datagen.flow_from_directory('Dataset\\Validation',\n",
    "                                            target_size = (64, 64),\n",
    "                                            batch_size = 32,\n",
    "                                            class_mode = 'binary')"
   ]
  },
  {
   "cell_type": "markdown",
   "metadata": {
    "id": "af8O4l90gk7B"
   },
   "source": [
    "## Part 2 - Building the CNN"
   ]
  },
  {
   "cell_type": "markdown",
   "metadata": {
    "id": "ces1gXY2lmoX"
   },
   "source": [
    "### Initialising the CNN"
   ]
  },
  {
   "cell_type": "code",
   "execution_count": 27,
   "metadata": {
    "id": "SAUt4UMPlhLS"
   },
   "outputs": [],
   "source": [
    "cnn = tf.keras.models.Sequential()"
   ]
  },
  {
   "cell_type": "markdown",
   "metadata": {
    "id": "u5YJj_XMl5LF"
   },
   "source": [
    "### Step 1 - Convolution"
   ]
  },
  {
   "cell_type": "code",
   "execution_count": 28,
   "metadata": {
    "id": "XPzPrMckl-hV"
   },
   "outputs": [],
   "source": [
    "cnn.add(tf.keras.layers.Conv2D(filters=32, kernel_size=3, activation='relu', input_shape=[64, 64, 3]))"
   ]
  },
  {
   "cell_type": "markdown",
   "metadata": {
    "id": "tf87FpvxmNOJ"
   },
   "source": [
    "### Step 2 - Pooling"
   ]
  },
  {
   "cell_type": "code",
   "execution_count": 29,
   "metadata": {
    "id": "ncpqPl69mOac"
   },
   "outputs": [],
   "source": [
    "cnn.add(tf.keras.layers.MaxPool2D(pool_size=2, strides=2))"
   ]
  },
  {
   "cell_type": "markdown",
   "metadata": {
    "id": "xaTOgD8rm4mU"
   },
   "source": [
    "### Adding a second convolutional layer"
   ]
  },
  {
   "cell_type": "code",
   "execution_count": 30,
   "metadata": {
    "id": "i_-FZjn_m8gk"
   },
   "outputs": [],
   "source": [
    "cnn.add(tf.keras.layers.Conv2D(filters=32, kernel_size=3, activation='relu'))\n",
    "cnn.add(tf.keras.layers.MaxPool2D(pool_size=2, strides=2))"
   ]
  },
  {
   "cell_type": "markdown",
   "metadata": {
    "id": "tmiEuvTunKfk"
   },
   "source": [
    "### Step 3 - Flattening"
   ]
  },
  {
   "cell_type": "code",
   "execution_count": 31,
   "metadata": {
    "id": "6AZeOGCvnNZn"
   },
   "outputs": [],
   "source": [
    "cnn.add(tf.keras.layers.Flatten())"
   ]
  },
  {
   "cell_type": "markdown",
   "metadata": {
    "id": "dAoSECOm203v"
   },
   "source": [
    "### Step 4 - Full Connection"
   ]
  },
  {
   "cell_type": "code",
   "execution_count": 32,
   "metadata": {
    "id": "8GtmUlLd26Nq"
   },
   "outputs": [],
   "source": [
    "cnn.add(tf.keras.layers.Dense(units=128, activation='relu'))"
   ]
  },
  {
   "cell_type": "markdown",
   "metadata": {
    "id": "yTldFvbX28Na"
   },
   "source": [
    "### Step 5 - Output Layer"
   ]
  },
  {
   "cell_type": "code",
   "execution_count": 33,
   "metadata": {
    "id": "1p_Zj1Mc3Ko_"
   },
   "outputs": [],
   "source": [
    "cnn.add(tf.keras.layers.Dense(units=1, activation='sigmoid'))"
   ]
  },
  {
   "cell_type": "markdown",
   "metadata": {
    "id": "D6XkI90snSDl"
   },
   "source": [
    "## Part 3 - Training the CNN"
   ]
  },
  {
   "cell_type": "markdown",
   "metadata": {
    "id": "vfrFQACEnc6i"
   },
   "source": [
    "### Compiling the CNN"
   ]
  },
  {
   "cell_type": "code",
   "execution_count": 34,
   "metadata": {
    "id": "NALksrNQpUlJ"
   },
   "outputs": [],
   "source": [
    "cnn.compile(optimizer = 'adam', loss = 'binary_crossentropy', metrics = ['accuracy'])"
   ]
  },
  {
   "cell_type": "markdown",
   "metadata": {
    "id": "ehS-v3MIpX2h"
   },
   "source": [
    "### Training the CNN on the Training set and evaluating it on the Test set"
   ]
  },
  {
   "cell_type": "code",
   "execution_count": 35,
   "metadata": {
    "id": "XUj1W4PJptta"
   },
   "outputs": [
    {
     "name": "stdout",
     "output_type": "stream",
     "text": [
      "Epoch 1/150\n",
      "2/2 [==============================] - 2s 534ms/step - loss: 0.7330 - accuracy: 0.4000 - val_loss: 0.6460 - val_accuracy: 0.7143\n",
      "Epoch 2/150\n",
      "2/2 [==============================] - 0s 352ms/step - loss: 0.6793 - accuracy: 0.5714 - val_loss: 0.6935 - val_accuracy: 0.7143\n",
      "Epoch 3/150\n",
      "2/2 [==============================] - 0s 139ms/step - loss: 0.6887 - accuracy: 0.7714 - val_loss: 0.6824 - val_accuracy: 0.7143\n",
      "Epoch 4/150\n",
      "2/2 [==============================] - 0s 152ms/step - loss: 0.6760 - accuracy: 0.6000 - val_loss: 0.6539 - val_accuracy: 0.7143\n",
      "Epoch 5/150\n",
      "2/2 [==============================] - 0s 364ms/step - loss: 0.6855 - accuracy: 0.5714 - val_loss: 0.6511 - val_accuracy: 0.7143\n",
      "Epoch 6/150\n",
      "2/2 [==============================] - 0s 143ms/step - loss: 0.6959 - accuracy: 0.5714 - val_loss: 0.6618 - val_accuracy: 0.7143\n",
      "Epoch 7/150\n",
      "2/2 [==============================] - 0s 142ms/step - loss: 0.7194 - accuracy: 0.5714 - val_loss: 0.6698 - val_accuracy: 0.7143\n",
      "Epoch 8/150\n",
      "2/2 [==============================] - 0s 390ms/step - loss: 0.7353 - accuracy: 0.5714 - val_loss: 0.6571 - val_accuracy: 0.7143\n",
      "Epoch 9/150\n",
      "2/2 [==============================] - 0s 150ms/step - loss: 0.7091 - accuracy: 0.5714 - val_loss: 0.6447 - val_accuracy: 0.7143\n",
      "Epoch 10/150\n",
      "2/2 [==============================] - 0s 156ms/step - loss: 0.6805 - accuracy: 0.5714 - val_loss: 0.6508 - val_accuracy: 0.7143\n",
      "Epoch 11/150\n",
      "2/2 [==============================] - 0s 341ms/step - loss: 0.6767 - accuracy: 0.5714 - val_loss: 0.6845 - val_accuracy: 0.7143\n",
      "Epoch 12/150\n",
      "2/2 [==============================] - 0s 349ms/step - loss: 0.6876 - accuracy: 0.4857 - val_loss: 0.7083 - val_accuracy: 0.2857\n",
      "Epoch 13/150\n",
      "2/2 [==============================] - 0s 172ms/step - loss: 0.6889 - accuracy: 0.5143 - val_loss: 0.6894 - val_accuracy: 0.7143\n",
      "Epoch 14/150\n",
      "2/2 [==============================] - 0s 387ms/step - loss: 0.6798 - accuracy: 0.6286 - val_loss: 0.7038 - val_accuracy: 0.2857\n",
      "Epoch 15/150\n",
      "2/2 [==============================] - 0s 363ms/step - loss: 0.6673 - accuracy: 0.7143 - val_loss: 0.6769 - val_accuracy: 0.5714\n",
      "Epoch 16/150\n",
      "2/2 [==============================] - 0s 391ms/step - loss: 0.6485 - accuracy: 0.6000 - val_loss: 0.6453 - val_accuracy: 0.7143\n",
      "Epoch 17/150\n",
      "2/2 [==============================] - 0s 181ms/step - loss: 0.6424 - accuracy: 0.5714 - val_loss: 0.6483 - val_accuracy: 0.7143\n",
      "Epoch 18/150\n",
      "2/2 [==============================] - 1s 464ms/step - loss: 0.7693 - accuracy: 0.5714 - val_loss: 0.6970 - val_accuracy: 0.7143\n",
      "Epoch 19/150\n",
      "2/2 [==============================] - 0s 436ms/step - loss: 0.6662 - accuracy: 0.5714 - val_loss: 0.6565 - val_accuracy: 0.5714\n",
      "Epoch 20/150\n",
      "2/2 [==============================] - 0s 410ms/step - loss: 0.6960 - accuracy: 0.4571 - val_loss: 0.8042 - val_accuracy: 0.2857\n",
      "Epoch 21/150\n",
      "2/2 [==============================] - 0s 373ms/step - loss: 0.7902 - accuracy: 0.4286 - val_loss: 0.9032 - val_accuracy: 0.2857\n",
      "Epoch 22/150\n",
      "2/2 [==============================] - 0s 233ms/step - loss: 0.7954 - accuracy: 0.4286 - val_loss: 0.8272 - val_accuracy: 0.2857\n",
      "Epoch 23/150\n",
      "2/2 [==============================] - 0s 152ms/step - loss: 0.7465 - accuracy: 0.4286 - val_loss: 0.7368 - val_accuracy: 0.2857\n",
      "Epoch 24/150\n",
      "2/2 [==============================] - 0s 165ms/step - loss: 0.7059 - accuracy: 0.4286 - val_loss: 0.6819 - val_accuracy: 0.7143\n",
      "Epoch 25/150\n",
      "2/2 [==============================] - 0s 358ms/step - loss: 0.6781 - accuracy: 0.5714 - val_loss: 0.6606 - val_accuracy: 0.7143\n",
      "Epoch 26/150\n",
      "2/2 [==============================] - 0s 157ms/step - loss: 0.6685 - accuracy: 0.5714 - val_loss: 0.6233 - val_accuracy: 0.7143\n",
      "Epoch 27/150\n",
      "2/2 [==============================] - 0s 148ms/step - loss: 0.6706 - accuracy: 0.5714 - val_loss: 0.6219 - val_accuracy: 0.7143\n",
      "Epoch 28/150\n",
      "2/2 [==============================] - 0s 185ms/step - loss: 0.6428 - accuracy: 0.5714 - val_loss: 0.7087 - val_accuracy: 0.2857\n",
      "Epoch 29/150\n",
      "2/2 [==============================] - 0s 389ms/step - loss: 0.7028 - accuracy: 0.4571 - val_loss: 0.8232 - val_accuracy: 0.2857\n",
      "Epoch 30/150\n",
      "2/2 [==============================] - 0s 143ms/step - loss: 0.6855 - accuracy: 0.4857 - val_loss: 0.7250 - val_accuracy: 0.4286\n",
      "Epoch 31/150\n",
      "2/2 [==============================] - 0s 195ms/step - loss: 0.6393 - accuracy: 0.7143 - val_loss: 0.5976 - val_accuracy: 0.7143\n",
      "Epoch 32/150\n",
      "2/2 [==============================] - 0s 176ms/step - loss: 0.6359 - accuracy: 0.5714 - val_loss: 0.5949 - val_accuracy: 0.7143\n",
      "Epoch 33/150\n",
      "2/2 [==============================] - 0s 334ms/step - loss: 0.7559 - accuracy: 0.5714 - val_loss: 0.6459 - val_accuracy: 0.7143\n",
      "Epoch 34/150\n",
      "2/2 [==============================] - 0s 373ms/step - loss: 0.7141 - accuracy: 0.5714 - val_loss: 0.6128 - val_accuracy: 0.7143\n",
      "Epoch 35/150\n",
      "2/2 [==============================] - 0s 364ms/step - loss: 0.6555 - accuracy: 0.5714 - val_loss: 0.6014 - val_accuracy: 0.7143\n",
      "Epoch 36/150\n",
      "2/2 [==============================] - 0s 151ms/step - loss: 0.6059 - accuracy: 0.5714 - val_loss: 0.6343 - val_accuracy: 1.0000\n",
      "Epoch 37/150\n",
      "2/2 [==============================] - 0s 165ms/step - loss: 0.6187 - accuracy: 0.8286 - val_loss: 0.6565 - val_accuracy: 0.5714\n",
      "Epoch 38/150\n",
      "2/2 [==============================] - 0s 351ms/step - loss: 0.6393 - accuracy: 0.8286 - val_loss: 0.6561 - val_accuracy: 0.5714\n",
      "Epoch 39/150\n",
      "2/2 [==============================] - 0s 353ms/step - loss: 0.6060 - accuracy: 0.8000 - val_loss: 0.6571 - val_accuracy: 0.4286\n",
      "Epoch 40/150\n",
      "2/2 [==============================] - 0s 357ms/step - loss: 0.6339 - accuracy: 0.7143 - val_loss: 0.6673 - val_accuracy: 0.4286\n",
      "Epoch 41/150\n",
      "2/2 [==============================] - 0s 355ms/step - loss: 0.6063 - accuracy: 0.6286 - val_loss: 0.5513 - val_accuracy: 0.5714\n",
      "Epoch 42/150\n",
      "2/2 [==============================] - 0s 164ms/step - loss: 0.5676 - accuracy: 0.7429 - val_loss: 0.5917 - val_accuracy: 0.7143\n",
      "Epoch 43/150\n",
      "2/2 [==============================] - 0s 139ms/step - loss: 0.6485 - accuracy: 0.5714 - val_loss: 0.5175 - val_accuracy: 0.7143\n",
      "Epoch 44/150\n",
      "2/2 [==============================] - 0s 342ms/step - loss: 0.5303 - accuracy: 0.7143 - val_loss: 0.5364 - val_accuracy: 0.7143\n",
      "Epoch 45/150\n",
      "2/2 [==============================] - 0s 351ms/step - loss: 0.5737 - accuracy: 0.7429 - val_loss: 0.6983 - val_accuracy: 0.4286\n",
      "Epoch 46/150\n",
      "2/2 [==============================] - 0s 152ms/step - loss: 0.5665 - accuracy: 0.7429 - val_loss: 0.8579 - val_accuracy: 0.4286\n",
      "Epoch 47/150\n",
      "2/2 [==============================] - 0s 346ms/step - loss: 0.6544 - accuracy: 0.5429 - val_loss: 0.8520 - val_accuracy: 0.4286\n",
      "Epoch 48/150\n",
      "2/2 [==============================] - 0s 354ms/step - loss: 0.5863 - accuracy: 0.6286 - val_loss: 0.6719 - val_accuracy: 0.4286\n",
      "Epoch 49/150\n",
      "2/2 [==============================] - 0s 141ms/step - loss: 0.5414 - accuracy: 0.7429 - val_loss: 0.5581 - val_accuracy: 0.7143\n",
      "Epoch 50/150\n",
      "2/2 [==============================] - 0s 352ms/step - loss: 0.5428 - accuracy: 0.7143 - val_loss: 0.5481 - val_accuracy: 0.8571\n",
      "Epoch 51/150\n",
      "2/2 [==============================] - 0s 364ms/step - loss: 0.5491 - accuracy: 0.7714 - val_loss: 0.5383 - val_accuracy: 0.8571\n",
      "Epoch 52/150\n",
      "2/2 [==============================] - 0s 358ms/step - loss: 0.5054 - accuracy: 0.7714 - val_loss: 0.5478 - val_accuracy: 0.8571\n",
      "Epoch 53/150\n",
      "2/2 [==============================] - 0s 385ms/step - loss: 0.4828 - accuracy: 0.7429 - val_loss: 0.6061 - val_accuracy: 0.7143\n",
      "Epoch 54/150\n",
      "2/2 [==============================] - 0s 147ms/step - loss: 0.4452 - accuracy: 0.8286 - val_loss: 0.6449 - val_accuracy: 0.5714\n",
      "Epoch 55/150\n",
      "2/2 [==============================] - 0s 154ms/step - loss: 0.4666 - accuracy: 0.8000 - val_loss: 0.5555 - val_accuracy: 0.8571\n",
      "Epoch 56/150\n",
      "2/2 [==============================] - 0s 143ms/step - loss: 0.4269 - accuracy: 0.8000 - val_loss: 0.5966 - val_accuracy: 0.8571\n",
      "Epoch 57/150\n",
      "2/2 [==============================] - 0s 143ms/step - loss: 0.4419 - accuracy: 0.8000 - val_loss: 0.6347 - val_accuracy: 0.5714\n",
      "Epoch 58/150\n",
      "2/2 [==============================] - 0s 359ms/step - loss: 0.4376 - accuracy: 0.8000 - val_loss: 0.4645 - val_accuracy: 0.8571\n"
     ]
    },
    {
     "name": "stdout",
     "output_type": "stream",
     "text": [
      "Epoch 59/150\n",
      "2/2 [==============================] - 0s 190ms/step - loss: 0.4647 - accuracy: 0.7143 - val_loss: 0.4549 - val_accuracy: 0.8571\n",
      "Epoch 60/150\n",
      "2/2 [==============================] - 0s 143ms/step - loss: 0.4610 - accuracy: 0.7714 - val_loss: 0.5894 - val_accuracy: 0.8571\n",
      "Epoch 61/150\n",
      "2/2 [==============================] - 0s 141ms/step - loss: 0.4375 - accuracy: 0.8286 - val_loss: 0.8523 - val_accuracy: 0.4286\n",
      "Epoch 62/150\n",
      "2/2 [==============================] - 0s 165ms/step - loss: 0.5598 - accuracy: 0.6286 - val_loss: 0.5810 - val_accuracy: 0.5714\n",
      "Epoch 63/150\n",
      "2/2 [==============================] - 0s 345ms/step - loss: 0.3977 - accuracy: 0.8000 - val_loss: 0.5311 - val_accuracy: 0.7143\n",
      "Epoch 64/150\n",
      "2/2 [==============================] - 0s 362ms/step - loss: 0.3848 - accuracy: 0.7429 - val_loss: 0.4256 - val_accuracy: 0.8571\n",
      "Epoch 65/150\n",
      "2/2 [==============================] - 0s 368ms/step - loss: 0.3954 - accuracy: 0.8286 - val_loss: 0.5957 - val_accuracy: 0.5714\n",
      "Epoch 66/150\n",
      "2/2 [==============================] - 0s 142ms/step - loss: 0.4755 - accuracy: 0.7429 - val_loss: 0.5321 - val_accuracy: 0.7143\n",
      "Epoch 67/150\n",
      "2/2 [==============================] - 0s 375ms/step - loss: 0.4449 - accuracy: 0.8286 - val_loss: 0.5469 - val_accuracy: 0.7143\n",
      "Epoch 68/150\n",
      "2/2 [==============================] - 0s 153ms/step - loss: 0.3398 - accuracy: 0.8571 - val_loss: 0.3874 - val_accuracy: 0.8571\n",
      "Epoch 69/150\n",
      "2/2 [==============================] - 0s 358ms/step - loss: 0.4793 - accuracy: 0.7429 - val_loss: 0.3523 - val_accuracy: 0.5714\n",
      "Epoch 70/150\n",
      "2/2 [==============================] - 0s 358ms/step - loss: 0.4299 - accuracy: 0.7143 - val_loss: 0.3048 - val_accuracy: 0.8571\n",
      "Epoch 71/150\n",
      "2/2 [==============================] - 0s 349ms/step - loss: 0.3720 - accuracy: 0.8286 - val_loss: 0.2907 - val_accuracy: 0.8571\n",
      "Epoch 72/150\n",
      "2/2 [==============================] - 0s 161ms/step - loss: 0.3107 - accuracy: 0.8571 - val_loss: 0.3747 - val_accuracy: 0.7143\n",
      "Epoch 73/150\n",
      "2/2 [==============================] - 0s 370ms/step - loss: 0.3421 - accuracy: 0.8571 - val_loss: 0.3668 - val_accuracy: 0.7143\n",
      "Epoch 74/150\n",
      "2/2 [==============================] - 0s 135ms/step - loss: 0.3691 - accuracy: 0.8286 - val_loss: 0.5115 - val_accuracy: 0.7143\n",
      "Epoch 75/150\n",
      "2/2 [==============================] - 0s 145ms/step - loss: 0.4952 - accuracy: 0.7143 - val_loss: 0.5501 - val_accuracy: 0.7143\n",
      "Epoch 76/150\n",
      "2/2 [==============================] - 0s 338ms/step - loss: 0.3487 - accuracy: 0.8857 - val_loss: 0.2996 - val_accuracy: 0.7143\n",
      "Epoch 77/150\n",
      "2/2 [==============================] - 0s 346ms/step - loss: 0.3092 - accuracy: 0.8857 - val_loss: 0.2746 - val_accuracy: 1.0000\n",
      "Epoch 78/150\n",
      "2/2 [==============================] - 0s 347ms/step - loss: 0.3510 - accuracy: 0.8571 - val_loss: 0.2785 - val_accuracy: 1.0000\n",
      "Epoch 79/150\n",
      "2/2 [==============================] - 0s 139ms/step - loss: 0.3626 - accuracy: 0.8571 - val_loss: 0.2778 - val_accuracy: 0.8571\n",
      "Epoch 80/150\n",
      "2/2 [==============================] - 0s 358ms/step - loss: 0.3308 - accuracy: 0.8571 - val_loss: 0.2856 - val_accuracy: 0.8571\n",
      "Epoch 81/150\n",
      "2/2 [==============================] - 0s 344ms/step - loss: 0.3185 - accuracy: 0.8857 - val_loss: 0.3164 - val_accuracy: 0.8571\n",
      "Epoch 82/150\n",
      "2/2 [==============================] - 0s 346ms/step - loss: 0.3209 - accuracy: 0.9143 - val_loss: 0.4306 - val_accuracy: 0.8571\n",
      "Epoch 83/150\n",
      "2/2 [==============================] - 0s 149ms/step - loss: 0.2827 - accuracy: 0.9143 - val_loss: 0.4244 - val_accuracy: 0.8571\n",
      "Epoch 84/150\n",
      "2/2 [==============================] - 0s 349ms/step - loss: 0.2849 - accuracy: 0.8571 - val_loss: 0.3912 - val_accuracy: 0.8571\n",
      "Epoch 85/150\n",
      "2/2 [==============================] - 0s 144ms/step - loss: 0.2682 - accuracy: 0.8571 - val_loss: 0.5460 - val_accuracy: 0.8571\n",
      "Epoch 86/150\n",
      "2/2 [==============================] - 0s 351ms/step - loss: 0.2342 - accuracy: 0.9429 - val_loss: 0.5242 - val_accuracy: 0.8571\n",
      "Epoch 87/150\n",
      "2/2 [==============================] - 0s 135ms/step - loss: 0.2373 - accuracy: 0.8571 - val_loss: 0.3116 - val_accuracy: 0.8571\n",
      "Epoch 88/150\n",
      "2/2 [==============================] - 0s 357ms/step - loss: 0.2475 - accuracy: 0.8571 - val_loss: 0.2171 - val_accuracy: 0.8571\n",
      "Epoch 89/150\n",
      "2/2 [==============================] - 0s 167ms/step - loss: 0.3237 - accuracy: 0.8000 - val_loss: 0.3641 - val_accuracy: 0.8571\n",
      "Epoch 90/150\n",
      "2/2 [==============================] - 0s 160ms/step - loss: 0.2494 - accuracy: 0.8857 - val_loss: 0.6051 - val_accuracy: 0.7143\n",
      "Epoch 91/150\n",
      "2/2 [==============================] - 0s 170ms/step - loss: 0.2354 - accuracy: 0.8857 - val_loss: 0.6623 - val_accuracy: 0.7143\n",
      "Epoch 92/150\n",
      "2/2 [==============================] - 0s 366ms/step - loss: 0.2021 - accuracy: 0.9429 - val_loss: 0.6771 - val_accuracy: 0.7143\n",
      "Epoch 93/150\n",
      "2/2 [==============================] - 0s 394ms/step - loss: 0.3536 - accuracy: 0.8000 - val_loss: 0.1567 - val_accuracy: 0.8571\n",
      "Epoch 94/150\n",
      "2/2 [==============================] - 0s 348ms/step - loss: 0.6802 - accuracy: 0.6571 - val_loss: 0.1342 - val_accuracy: 1.0000\n",
      "Epoch 95/150\n",
      "2/2 [==============================] - 0s 358ms/step - loss: 0.2994 - accuracy: 0.8286 - val_loss: 0.4662 - val_accuracy: 0.7143\n",
      "Epoch 96/150\n",
      "2/2 [==============================] - 0s 161ms/step - loss: 0.1928 - accuracy: 0.9429 - val_loss: 1.0060 - val_accuracy: 0.4286\n",
      "Epoch 97/150\n",
      "2/2 [==============================] - 0s 399ms/step - loss: 0.4439 - accuracy: 0.7143 - val_loss: 1.0126 - val_accuracy: 0.4286\n",
      "Epoch 98/150\n",
      "2/2 [==============================] - 0s 364ms/step - loss: 0.2577 - accuracy: 0.8857 - val_loss: 0.6895 - val_accuracy: 0.5714\n",
      "Epoch 99/150\n",
      "2/2 [==============================] - 0s 157ms/step - loss: 0.3670 - accuracy: 0.9143 - val_loss: 0.3887 - val_accuracy: 0.8571\n",
      "Epoch 100/150\n",
      "2/2 [==============================] - 0s 373ms/step - loss: 0.3013 - accuracy: 0.9714 - val_loss: 0.2241 - val_accuracy: 0.8571\n",
      "Epoch 101/150\n",
      "2/2 [==============================] - 0s 138ms/step - loss: 0.3220 - accuracy: 0.9143 - val_loss: 0.1823 - val_accuracy: 1.0000\n",
      "Epoch 102/150\n",
      "2/2 [==============================] - 0s 143ms/step - loss: 0.3588 - accuracy: 0.8000 - val_loss: 0.1774 - val_accuracy: 1.0000\n",
      "Epoch 103/150\n",
      "2/2 [==============================] - 0s 368ms/step - loss: 0.3365 - accuracy: 0.8286 - val_loss: 0.1385 - val_accuracy: 1.0000\n",
      "Epoch 104/150\n",
      "2/2 [==============================] - 0s 376ms/step - loss: 0.2526 - accuracy: 0.8857 - val_loss: 0.1377 - val_accuracy: 1.0000\n",
      "Epoch 105/150\n",
      "2/2 [==============================] - 0s 353ms/step - loss: 0.2455 - accuracy: 0.9143 - val_loss: 0.2314 - val_accuracy: 0.8571\n",
      "Epoch 106/150\n",
      "2/2 [==============================] - 0s 366ms/step - loss: 0.2969 - accuracy: 0.9143 - val_loss: 0.3631 - val_accuracy: 0.8571\n",
      "Epoch 107/150\n",
      "2/2 [==============================] - 0s 167ms/step - loss: 0.2127 - accuracy: 0.8857 - val_loss: 0.4113 - val_accuracy: 0.8571\n",
      "Epoch 108/150\n",
      "2/2 [==============================] - 0s 372ms/step - loss: 0.2080 - accuracy: 0.9143 - val_loss: 0.2561 - val_accuracy: 0.8571\n",
      "Epoch 109/150\n",
      "2/2 [==============================] - 0s 378ms/step - loss: 0.2297 - accuracy: 0.8571 - val_loss: 0.1152 - val_accuracy: 1.0000\n",
      "Epoch 110/150\n",
      "2/2 [==============================] - 0s 350ms/step - loss: 0.3707 - accuracy: 0.8286 - val_loss: 0.1083 - val_accuracy: 1.0000\n",
      "Epoch 111/150\n",
      "2/2 [==============================] - 0s 152ms/step - loss: 0.3108 - accuracy: 0.8000 - val_loss: 0.1085 - val_accuracy: 1.0000\n",
      "Epoch 112/150\n",
      "2/2 [==============================] - 0s 139ms/step - loss: 0.1614 - accuracy: 0.9429 - val_loss: 0.1534 - val_accuracy: 0.8571\n",
      "Epoch 113/150\n",
      "2/2 [==============================] - 0s 142ms/step - loss: 0.2071 - accuracy: 0.9714 - val_loss: 0.0717 - val_accuracy: 1.0000\n",
      "Epoch 114/150\n",
      "2/2 [==============================] - 0s 352ms/step - loss: 0.1755 - accuracy: 0.9429 - val_loss: 0.1225 - val_accuracy: 1.0000\n",
      "Epoch 115/150\n",
      "2/2 [==============================] - 0s 359ms/step - loss: 0.2098 - accuracy: 0.9143 - val_loss: 0.1970 - val_accuracy: 0.8571\n",
      "Epoch 116/150\n"
     ]
    },
    {
     "name": "stdout",
     "output_type": "stream",
     "text": [
      "2/2 [==============================] - 0s 137ms/step - loss: 0.2324 - accuracy: 0.9429 - val_loss: 0.0816 - val_accuracy: 1.0000\n",
      "Epoch 117/150\n",
      "2/2 [==============================] - 0s 146ms/step - loss: 0.2123 - accuracy: 0.9429 - val_loss: 0.0503 - val_accuracy: 1.0000\n",
      "Epoch 118/150\n",
      "2/2 [==============================] - 0s 350ms/step - loss: 0.2662 - accuracy: 0.8857 - val_loss: 0.0936 - val_accuracy: 1.0000\n",
      "Epoch 119/150\n",
      "2/2 [==============================] - 0s 341ms/step - loss: 0.1286 - accuracy: 0.9714 - val_loss: 0.1387 - val_accuracy: 1.0000\n",
      "Epoch 120/150\n",
      "2/2 [==============================] - 0s 356ms/step - loss: 0.3185 - accuracy: 0.8571 - val_loss: 0.0572 - val_accuracy: 1.0000\n",
      "Epoch 121/150\n",
      "2/2 [==============================] - 0s 345ms/step - loss: 0.2277 - accuracy: 0.8857 - val_loss: 0.2750 - val_accuracy: 0.7143\n",
      "Epoch 122/150\n",
      "2/2 [==============================] - 0s 148ms/step - loss: 0.1243 - accuracy: 0.9714 - val_loss: 0.2128 - val_accuracy: 0.8571\n",
      "Epoch 123/150\n",
      "2/2 [==============================] - 0s 339ms/step - loss: 0.2009 - accuracy: 0.9143 - val_loss: 0.0727 - val_accuracy: 1.0000\n",
      "Epoch 124/150\n",
      "2/2 [==============================] - 0s 338ms/step - loss: 0.2251 - accuracy: 0.9143 - val_loss: 0.0456 - val_accuracy: 1.0000\n",
      "Epoch 125/150\n",
      "2/2 [==============================] - 0s 153ms/step - loss: 0.0841 - accuracy: 0.9714 - val_loss: 0.0638 - val_accuracy: 1.0000\n",
      "Epoch 126/150\n",
      "2/2 [==============================] - 0s 139ms/step - loss: 0.1678 - accuracy: 0.9143 - val_loss: 0.0395 - val_accuracy: 1.0000\n",
      "Epoch 127/150\n",
      "2/2 [==============================] - 0s 136ms/step - loss: 0.1372 - accuracy: 0.9429 - val_loss: 0.0328 - val_accuracy: 1.0000\n",
      "Epoch 128/150\n",
      "2/2 [==============================] - 0s 353ms/step - loss: 0.1519 - accuracy: 0.9143 - val_loss: 0.0576 - val_accuracy: 1.0000\n",
      "Epoch 129/150\n",
      "2/2 [==============================] - 0s 162ms/step - loss: 0.1717 - accuracy: 0.9714 - val_loss: 0.0320 - val_accuracy: 1.0000\n",
      "Epoch 130/150\n",
      "2/2 [==============================] - 0s 165ms/step - loss: 0.1522 - accuracy: 0.9429 - val_loss: 0.0616 - val_accuracy: 1.0000\n",
      "Epoch 131/150\n",
      "2/2 [==============================] - 0s 372ms/step - loss: 0.1822 - accuracy: 0.9143 - val_loss: 0.0463 - val_accuracy: 1.0000\n",
      "Epoch 132/150\n",
      "2/2 [==============================] - 0s 373ms/step - loss: 0.0963 - accuracy: 1.0000 - val_loss: 0.0287 - val_accuracy: 1.0000\n",
      "Epoch 133/150\n",
      "2/2 [==============================] - 0s 357ms/step - loss: 0.0916 - accuracy: 0.9714 - val_loss: 0.0582 - val_accuracy: 1.0000\n",
      "Epoch 134/150\n",
      "2/2 [==============================] - 0s 382ms/step - loss: 0.0659 - accuracy: 1.0000 - val_loss: 0.0817 - val_accuracy: 1.0000\n",
      "Epoch 135/150\n",
      "2/2 [==============================] - 0s 424ms/step - loss: 0.1395 - accuracy: 0.9429 - val_loss: 0.0707 - val_accuracy: 1.0000\n",
      "Epoch 136/150\n",
      "2/2 [==============================] - 1s 472ms/step - loss: 0.0902 - accuracy: 0.9714 - val_loss: 0.0277 - val_accuracy: 1.0000\n",
      "Epoch 137/150\n",
      "2/2 [==============================] - 0s 192ms/step - loss: 0.1954 - accuracy: 0.9143 - val_loss: 0.1287 - val_accuracy: 1.0000\n",
      "Epoch 138/150\n",
      "2/2 [==============================] - 0s 400ms/step - loss: 0.2624 - accuracy: 0.9143 - val_loss: 1.1090 - val_accuracy: 0.5714\n",
      "Epoch 139/150\n",
      "2/2 [==============================] - 0s 221ms/step - loss: 0.3229 - accuracy: 0.8571 - val_loss: 0.7221 - val_accuracy: 0.7143\n",
      "Epoch 140/150\n",
      "2/2 [==============================] - 0s 177ms/step - loss: 0.2737 - accuracy: 0.8286 - val_loss: 0.3562 - val_accuracy: 0.8571\n",
      "Epoch 141/150\n",
      "2/2 [==============================] - 0s 196ms/step - loss: 0.2080 - accuracy: 0.8857 - val_loss: 0.2843 - val_accuracy: 0.8571\n",
      "Epoch 142/150\n",
      "2/2 [==============================] - 0s 163ms/step - loss: 0.2475 - accuracy: 0.8857 - val_loss: 0.2672 - val_accuracy: 0.8571\n",
      "Epoch 143/150\n",
      "2/2 [==============================] - 0s 381ms/step - loss: 0.2208 - accuracy: 0.9429 - val_loss: 0.2278 - val_accuracy: 0.8571\n",
      "Epoch 144/150\n",
      "2/2 [==============================] - 0s 394ms/step - loss: 0.3069 - accuracy: 0.8286 - val_loss: 0.1797 - val_accuracy: 0.8571\n",
      "Epoch 145/150\n",
      "2/2 [==============================] - 1s 174ms/step - loss: 0.2849 - accuracy: 0.8571 - val_loss: 0.1785 - val_accuracy: 0.8571\n",
      "Epoch 146/150\n",
      "2/2 [==============================] - 0s 142ms/step - loss: 0.2324 - accuracy: 0.9429 - val_loss: 0.2061 - val_accuracy: 0.8571\n",
      "Epoch 147/150\n",
      "2/2 [==============================] - 0s 397ms/step - loss: 0.1846 - accuracy: 1.0000 - val_loss: 0.2140 - val_accuracy: 0.8571\n",
      "Epoch 148/150\n",
      "2/2 [==============================] - 0s 372ms/step - loss: 0.1795 - accuracy: 0.9714 - val_loss: 0.1963 - val_accuracy: 0.8571\n",
      "Epoch 149/150\n",
      "2/2 [==============================] - 0s 150ms/step - loss: 0.1524 - accuracy: 0.9429 - val_loss: 0.1931 - val_accuracy: 0.8571\n",
      "Epoch 150/150\n",
      "2/2 [==============================] - 0s 144ms/step - loss: 0.1335 - accuracy: 1.0000 - val_loss: 0.2014 - val_accuracy: 0.8571\n"
     ]
    },
    {
     "data": {
      "text/plain": [
       "<keras.callbacks.History at 0x2478028ac40>"
      ]
     },
     "execution_count": 35,
     "metadata": {},
     "output_type": "execute_result"
    }
   ],
   "source": [
    "cnn.fit(x = training_set, validation_data = test_set, epochs = 150)"
   ]
  },
  {
   "cell_type": "markdown",
   "metadata": {
    "id": "U3PZasO0006Z"
   },
   "source": [
    "## Part 4 - Making a single prediction"
   ]
  },
  {
   "cell_type": "code",
   "execution_count": 21,
   "metadata": {
    "id": "gsSiWEJY1BPB"
   },
   "outputs": [
    {
     "name": "stdout",
     "output_type": "stream",
     "text": [
      "1/1 [==============================] - 0s 189ms/step\n"
     ]
    }
   ],
   "source": [
    "import numpy as np\n",
    "from keras.preprocessing import image\n",
    "from keras.utils import load_img\n",
    "from keras.utils import img_to_array\n",
    "test_image = load_img('Dataset/Testing/Fake.jpeg', target_size = (64, 64))\n",
    "test_image = img_to_array(test_image)\n",
    "test_image = np.expand_dims(test_image, axis = 0)\n",
    "result = cnn.predict(test_image)\n",
    "training_set.class_indices\n",
    "if result[0][0] == 1:\n",
    "  prediction = 'Real currency'\n",
    "else:\n",
    "  prediction = 'Fake currency'"
   ]
  },
  {
   "cell_type": "code",
   "execution_count": 22,
   "metadata": {
    "id": "ED9KB3I54c1i"
   },
   "outputs": [
    {
     "name": "stdout",
     "output_type": "stream",
     "text": [
      "Fake currency\n"
     ]
    }
   ],
   "source": [
    "print(prediction)"
   ]
  },
  {
   "cell_type": "code",
   "execution_count": null,
   "metadata": {},
   "outputs": [],
   "source": []
  }
 ],
 "metadata": {
  "colab": {
   "provenance": []
  },
  "kernelspec": {
   "display_name": "Python 3 (ipykernel)",
   "language": "python",
   "name": "python3"
  },
  "language_info": {
   "codemirror_mode": {
    "name": "ipython",
    "version": 3
   },
   "file_extension": ".py",
   "mimetype": "text/x-python",
   "name": "python",
   "nbconvert_exporter": "python",
   "pygments_lexer": "ipython3",
   "version": "3.9.12"
  }
 },
 "nbformat": 4,
 "nbformat_minor": 1
}
